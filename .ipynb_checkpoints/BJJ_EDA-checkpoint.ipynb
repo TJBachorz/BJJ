{
 "cells": [
  {
   "cell_type": "markdown",
   "metadata": {},
   "source": []
  },
  {
   "cell_type": "code",
   "execution_count": null,
   "metadata": {},
   "outputs": [],
   "source": [
    "from IPython.display import HTML\n",
    "\n",
    "HTML('''<script>\n",
    "code_show=true; \n",
    "function code_toggle() {\n",
    " if (code_show){\n",
    " $('div.input').hide();\n",
    " } else {\n",
    " $('div.input').show();\n",
    " }\n",
    " code_show = !code_show\n",
    "} \n",
    "$( document ).ready(code_toggle);\n",
    "</script>\n",
    "The raw code for this IPython notebook is by default hidden for easier reading.\n",
    "To toggle on/off the raw code, click <a href=\"javascript:code_toggle()\">here</a>.''')"
   ]
  },
  {
   "cell_type": "code",
   "execution_count": null,
   "metadata": {},
   "outputs": [],
   "source": [
    "import pandas as pd\n",
    "import re\n",
    "import numpy as np\n",
    "import seaborn as sns\n",
    "import matplotlib.pyplot as plt\n",
    "from collections import Counter, OrderedDict\n",
    "\n",
    "path = 'C:/Users/malgo_000/Desktop/BJJ/'"
   ]
  },
  {
   "cell_type": "code",
   "execution_count": null,
   "metadata": {},
   "outputs": [],
   "source": [
    "# getting the data and deleting unimportant columns\n",
    "data = pd.read_csv(path + 'BJJ1.csv')\n",
    "data = data.drop(columns = ['RecipientEmail','RecipientFirstName',\n",
    "                            'RecipientLastName','IPAddress',\n",
    "                            'ExternalReference', 'DistributionChannel'])\n",
    "data = data.fillna('')\n",
    "# creating a dictionaty for eventual future column names mapping\n",
    "colnames = data[:][:1].values.tolist()[0]\n",
    "colnames_dict = dict(zip(list(data), colnames))\n",
    "\n",
    "# final dataset to be cleaned with questions only\n",
    "qestions_order = sorted(list(data)[8:], key = lambda x: float(x[1:]))\n",
    "data_q = data[qestions_order][2:]"
   ]
  },
  {
   "cell_type": "code",
   "execution_count": null,
   "metadata": {},
   "outputs": [],
   "source": [
    "################## 1. Country Q67 --> \"nationality\"  #################\n",
    "\n",
    "def generate_country_dict():\n",
    "    country_dict = {\n",
    "            'USA':['US','USA','States','American','america','Murrica','Murika',\n",
    "                   'Murica','Virginia','Texan','Merica','Merican','Merkin'],\n",
    "            'UK':['English','England','Scottish','Britain','British','Kingdom',\n",
    "                  'Welsh','Scotland','UK'],\n",
    "            'Netherlands':['NL','Dutch','Netherlands','Netherland',],\n",
    "            'Ireland':['Irish','Ireland'],\n",
    "            'Italy':['Italian','Italy'],\n",
    "            'Germany':['German','Deutsch','getman','DE','Germany'],\n",
    "            'Australia':['Australian', 'Austtalian','Australia'],\n",
    "            'India':['Indian','India'],\n",
    "            'Canada':['Canadian','Canada'],\n",
    "            'Phillipines':['Filipino','Phillipines','Philippines'],\n",
    "            'France':['French','France'],\n",
    "            'Poland':['Polish','Poland'],\n",
    "            'Japan':['Japanese','Okinawan','Japan'],\n",
    "            'Brazil':['Brazilian','Brazillian', 'Brazil'],\n",
    "            'Israel':['Israeli','Israel'],\n",
    "            'Portugal':['Portuguese','Portugal'],\n",
    "            'Iceland':['Icelandic','Iceland'],\n",
    "            'Lithuania':['Lithuanian','Lithuania'],\n",
    "            'Singapore':['Singaporean','Singapore'],\n",
    "            'New Zealand':['NewZealander','NewZealand'],\n",
    "            'Norway':['Norwegian','Norway'],\n",
    "            'Colombia':['Colombian','Colombia'],\n",
    "            'Vietnam':['Vietnamese','Vietnam'],\n",
    "            'Denmark':['Danish','DK','Denmark'],\n",
    "            'Sweden':['Swedish','Sweden'],\n",
    "            'Uruguay':['Uruguayan','Uruguay'],\n",
    "            'Pakistan':['Pakistani','Pakistan'],\n",
    "            'Austria':['Austria','Austrian'],\n",
    "            'Nicaragua':['Nicaragua'],\n",
    "            'Russia':['Russian','Russia'],\n",
    "            'China':['Chinese','China'],\n",
    "            'Switzerland':['Swiss','Switzerland'],\n",
    "            'Hungary':['Hungary','Hungarian'],\n",
    "            'Serbia':['Serbian','serb','Serbia'],\n",
    "            'Romania':['Romanian','Romania'],\n",
    "            'Finland':['Finnish','Finland'],\n",
    "            'Croatia':['Croatian','Croatia','cro'],\n",
    "            'Bosnia':['Bosniak','Bosnian','Bosnia'],\n",
    "            'South Africa':['SouthAfrican','SouthAfrica','SouthAfrican'],\n",
    "            'Mexico':['Mexican','Mexico'],\n",
    "            'Malaysia':['Malaysian','Malaysia'],\n",
    "            'Greece':['Greek','Greece'],\n",
    "            'South Korea':['Korean','Korea','SouthKorea'],\n",
    "            'Egypt':['Egyptian','Egypt'],\n",
    "            'Ecuador':['Ecuadorian','Ecuador'],\n",
    "            'Spain':['Spanish','Spain'],\n",
    "            'Czech Republic':['Czech'],\n",
    "            'Ukraine':['Ukranian','Ukraine'],\n",
    "            'Chile':['Chile'],\n",
    "            'Turkey':['Turkish','Turkey'],\n",
    "            'Indonesia':['Indonesia'],\n",
    "            'Jamaica':['Jamaica'],\n",
    "            'Cuba':['Cuban','Cuba'],\n",
    "            'Macedonia':['Macedonian','Macedonia'],\n",
    "            'Malta':['Maltese','Malta'],\n",
    "            'Montenegro':['Montenegrin'],\n",
    "            'Other':['Other']\n",
    "            }\n",
    "\n",
    "    country_dict2 = {}  \n",
    "    for c_list, country in zip(list(country_dict.values()), country_dict.keys()):\n",
    "        for c in c_list:\n",
    "            country_dict2[c.lower()] = country\n",
    "    \n",
    "    return country_dict2"
   ]
  },
  {
   "cell_type": "code",
   "execution_count": null,
   "metadata": {},
   "outputs": [],
   "source": [
    "country_dict = generate_country_dict()"
   ]
  },
  {
   "cell_type": "code",
   "execution_count": null,
   "metadata": {},
   "outputs": [],
   "source": [
    "def clean_text(string):\n",
    "    string= string.lower()\n",
    "    list_replacements = [['.',''],['new ','new'],['south ','south']]\n",
    "    \n",
    "    for replacement in list_replacements:\n",
    "        string = string.replace(replacement[0],replacement[1])\n",
    "\n",
    "    check = '(@[A-Za-z]+)|([^A-Za-z \\t\\&])|(\\w+:\\/\\/\\S+)'\n",
    "    return ' '.join(re.sub(check, ' ', string).split())\n",
    "\n",
    "data_q['country_list'] = [clean_text(x) for x in data_q['Q67']]\n",
    "data_q['country_list'] = data_q['country_list'].str.split(' ')\n",
    " "
   ]
  },
  {
   "cell_type": "code",
   "execution_count": null,
   "metadata": {},
   "outputs": [],
   "source": [
    "def country_get(word_list):\n",
    "    nationalities = []\n",
    "    \n",
    "    for word in word_list:\n",
    "        nationality = ''\n",
    "        if word.lower() in country_dict.keys():\n",
    "            nationality = country_dict[word.lower()]\n",
    "        if nationality != '' and nationality not in nationalities:\n",
    "            nationalities.append(nationality)      \n",
    "        if nationality == 'Other':\n",
    "            break\n",
    "    \n",
    "    return nationalities\n",
    "        \n",
    "data_q['nationality'] = [country_get(x) for x in data_q['country_list']] \n",
    "  \n",
    "data_q2 =  data_q[['Q67','country_list','nationality']]"
   ]
  },
  {
   "cell_type": "code",
   "execution_count": null,
   "metadata": {},
   "outputs": [],
   "source": [
    "#############  pie chart visualising the answers  #####################\n",
    "\n",
    "def pie_chart_generator(question):\n",
    "    question_list = data[question][data[question] != '']\n",
    "    #data[question][data[question] == ''] = 'No answer'\n",
    "    \n",
    "    counts = Counter(question_list[2:].tolist())\n",
    "    plt.pie([int(v) for v in counts.values()], labels=[str(k) for k in counts.keys()],\n",
    "             autopct='%.1f%%')\n",
    "    plt.show()"
   ]
  },
  {
   "cell_type": "code",
   "execution_count": null,
   "metadata": {},
   "outputs": [],
   "source": [
    "################## Q55 - gender ##################\n",
    "#print(colnames_dict['Q55'])\n",
    "pie_chart_generator('Q55')\n",
    "\n",
    "################## Q56 - education - barchart ##################\n",
    "#print(colnames_dict['Q56'])"
   ]
  },
  {
   "cell_type": "code",
   "execution_count": null,
   "metadata": {},
   "outputs": [],
   "source": [
    "def bar_plot(question):\n",
    "    question_list = data[question][data[question] != '']\n",
    "    #data[question][data[question] == ''] = 'No answer'\n",
    "    \n",
    "    counts = OrderedDict(Counter(question_list[2:]).most_common())\n",
    "    \n",
    "    plt.barh(range(len(counts)), list(counts.values()), align='center')\n",
    "    plt.yticks(range(len(counts)), list(counts.keys()))\n",
    "    \n",
    "    plt.show()\n",
    "    \n",
    "bar_plot('Q56')\n",
    "\n",
    "bar_plot('Q2')"
   ]
  },
  {
   "cell_type": "code",
   "execution_count": null,
   "metadata": {},
   "outputs": [],
   "source": [
    "################## Q57 - age ##################\n",
    "#print(colnames_dict['Q57'])\n",
    "age_data = data['Q57'][data['Q57'] != '']\n",
    "data['age_data'] = age_data[2:].apply(int) "
   ]
  },
  {
   "cell_type": "code",
   "execution_count": null,
   "metadata": {},
   "outputs": [],
   "source": [
    "def age_categories(x):\n",
    "    if 18 <= x < 21:\n",
    "        return '18-21'\n",
    "    elif 21 <= x < 25:\n",
    "        return '21-25'\n",
    "    elif 25 <= x < 30:\n",
    "        return '25-30'\n",
    "    elif 30 <= x < 35:\n",
    "        return '30-35'\n",
    "    elif 35 <= x < 40:\n",
    "        return '35-40'\n",
    "    elif 40 <= x < 45:\n",
    "        return '40-45'\n",
    "    elif 45 <= x < 50:\n",
    "        return '45-50'\n",
    "    elif 50 <= x:\n",
    "        return '50+'\n",
    "    else:\n",
    "        return ''"
   ]
  },
  {
   "cell_type": "code",
   "execution_count": null,
   "metadata": {},
   "outputs": [],
   "source": [
    "    \n",
    "data['age_category'] = data['age_data'][2:].apply(age_categories)  \n",
    "\n",
    "pie_chart_generator('age_category')"
   ]
  },
  {
   "cell_type": "code",
   "execution_count": null,
   "metadata": {},
   "outputs": [],
   "source": [
    "################## Q57.1 - income ################\n",
    "#print(colnames_dict['Q57.1'])\n",
    "bar_plot('Q57.1')"
   ]
  },
  {
   "cell_type": "code",
   "execution_count": null,
   "metadata": {},
   "outputs": [],
   "source": [
    "################## Q59 - race / ethnicity #################\n",
    "#print(colnames_dict['Q59'])\n",
    "pie_chart_generator('Q59')"
   ]
  },
  {
   "cell_type": "code",
   "execution_count": null,
   "metadata": {},
   "outputs": [],
   "source": [
    "# what techniques are preffered by higher belts?\n",
    "# belt promotion time Kaplan Meier\n",
    "# do BJJ people buy naitonal brands?\n",
    "# do higher belts compete more often?"
   ]
  },
  {
   "cell_type": "code",
   "execution_count": null,
   "metadata": {},
   "outputs": [],
   "source": [
    "data[['Q55','Q2']].groupby(['Q55','Q2']).size()\n",
    "\n",
    "#############  pie chart visualising the answers  #####################\n",
    "\n",
    "belt_colours = ['White belt','Blue Belt','Purple Belt','Brown Belt','Black Belt']\n",
    "\n",
    "def pie_chart_by(question, gender = False, belt = False):\n",
    "   \n",
    "    if gender != False: \n",
    "        for gender_ in ('Female','Male'):\n",
    "            question_list = data[question][(data[question] != '') & (data['Q55'] == gender_)]\n",
    "            \n",
    "            n = sum([1 for x in data['Q55'] if x == gender])\n",
    "            \n",
    "            counts = Counter(question_list[2:].tolist())\n",
    "            plt.pie([int(v) for v in counts.values()], \n",
    "                     labels=[str(k) for k in counts.keys()],\n",
    "                     autopct='%.1f%%')\n",
    "            plt.title(gender_ + \" (\" + str(n) + \")\")\n",
    "            plt.show()\n",
    "     \n",
    "    if belt != False: \n",
    "        for belt_ in list(belt_colours.values()):\n",
    "            question_list = data[question][(data[question] != '') & (data['Q2'] == belt_)]\n",
    "            \n",
    "            n = sum([1 for x in data['Q2'] if x == belt_])\n",
    "            \n",
    "            counts = Counter(question_list[2:].tolist())\n",
    "            plt.pie([int(v) for v in counts.values()], \n",
    "                     labels=[str(k) for k in counts.keys()],\n",
    "                     autopct='%.1f%%')\n",
    "            plt.title(belt_ + \" (\" + str(n) + \")\")\n",
    "            plt.show()   \n",
    "            "
   ]
  },
  {
   "cell_type": "code",
   "execution_count": null,
   "metadata": {},
   "outputs": [],
   "source": [
    "           \n",
    "pie_chart_by('Q2', gender = True)"
   ]
  },
  {
   "cell_type": "code",
   "execution_count": null,
   "metadata": {},
   "outputs": [],
   "source": [
    "pie_chart_by('Q67.1', gender = True)   "
   ]
  },
  {
   "cell_type": "code",
   "execution_count": null,
   "metadata": {},
   "outputs": [],
   "source": [
    "pie_chart_by('Q67.1', belt = True)"
   ]
  },
  {
   "cell_type": "code",
   "execution_count": null,
   "metadata": {},
   "outputs": [],
   "source": [
    "cross = pd.crosstab(data['Q2'][data['Q2'].isin(belt_colours)], data['Q67.1'][data['Q67.1'] != ''])\n",
    "cross_perc = cross.divide(cross.sum(axis=1), axis = 0)\n",
    "cross_perc2 = pd.DataFrame(cross_perc, index = belt_colours)\n",
    "\n",
    "cross2 = pd.DataFrame(cross, index = belt_colours)\n",
    "techniques = ['Closed guard', 'Leg locking', 'Open Guard', 'Pressure Passing']\n",
    "# Do preferences change over time?"
   ]
  },
  {
   "cell_type": "code",
   "execution_count": null,
   "metadata": {},
   "outputs": [],
   "source": [
    "# Make the plot\n",
    "plt.stackplot(belt_colours, cross_perc['Closed guard'],cross_perc['Leg locking'],cross_perc['Open Guard'],cross_perc['Pressure Passing'], labels=techniques)\n",
    "plt.legend(loc='upper left')\n",
    "#plt.xticks(belt_colours)\n",
    "plt.title('Favourite techniques vs. belt colour')\n",
    "plt.show()"
   ]
  },
  {
   "cell_type": "code",
   "execution_count": null,
   "metadata": {},
   "outputs": [],
   "source": [
    "# Make the plot\n",
    "plt.stackplot(belt_colours, cross_perc2['Closed guard'],cross_perc2['Leg locking'],cross_perc2['Open Guard'],cross_perc2['Pressure Passing'], labels=techniques)\n",
    "plt.legend(loc='upper left')\n",
    "#plt.xticks(belt_colours)\n",
    "plt.title('Favourite techniques vs. belt colour')\n",
    "plt.show()"
   ]
  }
 ],
 "metadata": {
  "kernelspec": {
   "display_name": "Python 3",
   "language": "python",
   "name": "python3"
  },
  "language_info": {
   "codemirror_mode": {
    "name": "ipython",
    "version": 3
   },
   "file_extension": ".py",
   "mimetype": "text/x-python",
   "name": "python",
   "nbconvert_exporter": "python",
   "pygments_lexer": "ipython3",
   "version": "3.7.3"
  }
 },
 "nbformat": 4,
 "nbformat_minor": 2
}
